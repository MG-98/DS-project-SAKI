{
 "cells": [
  {
   "attachments": {},
   "cell_type": "markdown",
   "metadata": {},
   "source": [
    "# Project description"
   ]
  },
  {
   "attachments": {},
   "cell_type": "markdown",
   "metadata": {},
   "source": [
    "This project's goal is to analyze where free/open hotspots and road sections are located. As a result, we are able to pinpoint the areas and routes with the best internet infrastructure for testing new services. Koln will serve as my use case.\n",
    "It will be simpler to choose the locations for new services, such as speed monitoring, traffic light smart atomation, or any IOT application related to smart cities, if you have access to the road sections with the appropriate internet infrastructure. This site will make it feasible to test new technologies without having to worry about building the necessary infrastructure."
   ]
  },
  {
   "cell_type": "code",
   "execution_count": 66,
   "metadata": {},
   "outputs": [],
   "source": [
    "import pandas as pd\n",
    "import re\n",
    "import math\n",
    "import haversine as hs\n",
    "from haversine import Unit\n"
   ]
  },
  {
   "attachments": {},
   "cell_type": "markdown",
   "metadata": {},
   "source": [
    "## Load data"
   ]
  },
  {
   "attachments": {},
   "cell_type": "markdown",
   "metadata": {},
   "source": [
    "We are not running the data pipeline here becasue our data has been updated , but we use a local version which i have downloaded beforehand. "
   ]
  },
  {
   "cell_type": "code",
   "execution_count": 1,
   "metadata": {},
   "outputs": [],
   "source": [
    "hotspots_in_koeln_df = pd.read_sql_table('hotspots_in_koeln', 'sqlite:///../data/project.sqlite')\n",
    "road_sections_df = pd.read_sql_table('road_sections','sqlite:///../data/project.sqlite')"
   ]
  },
  {
   "cell_type": "code",
   "execution_count": 14,
   "metadata": {},
   "outputs": [
    {
     "data": {
      "text/plain": [
       "'[[6.956258032574851, 50.93279687112151], [6.956549764216335, 50.93287852984841], [6.956672094910387, 50.932912765544394], [6.956909600700839, 50.93300682451176], [6.95696711239904, 50.93302963470507], [6.9571878396903895, 50.933117088507174], [6.957590857475961, 50.93326983710532], [6.957814318941027, 50.93335870549693], [6.958167414994204, 50.93340794445326], [6.95844853934104, 50.9334369188863], [6.959427856852263, 50.933610904461894], [6.959468693848826, 50.93361820985403]]'"
      ]
     },
     "execution_count": 14,
     "metadata": {},
     "output_type": "execute_result"
    }
   ],
   "source": [
    "road_sections_df['Geometry_paths'][0]"
   ]
  },
  {
   "attachments": {},
   "cell_type": "markdown",
   "metadata": {},
   "source": [
    "# Data preparation"
   ]
  },
  {
   "attachments": {},
   "cell_type": "markdown",
   "metadata": {},
   "source": [
    "steps:\n",
    "\n",
    "* making a standard street name. "
   ]
  },
  {
   "cell_type": "code",
   "execution_count": 2,
   "metadata": {},
   "outputs": [],
   "source": [
    "# Making standard street names to match with the street names from the roads table\n",
    "hotspots_in_koeln_df['Straße_name'] = hotspots_in_koeln_df['Straßenname'].map(lambda x: re.split('[s|S]tr[ |a|\".\"]', x)[0])"
   ]
  },
  {
   "cell_type": "code",
   "execution_count": 3,
   "metadata": {},
   "outputs": [],
   "source": [
    "# Making standard street names to match with the street names from the hotspot table\n",
    "road_sections_df['Straße_name'] = road_sections_df['Straße'].map(lambda x: re.split('[s|S]tr[ |a|\".\"]', x)[0])"
   ]
  },
  {
   "cell_type": "code",
   "execution_count": 5,
   "metadata": {},
   "outputs": [],
   "source": [
    "# Merging the hotspots and the road section tables\n",
    "all_in_one = hotspots_in_koeln_df.merge(road_sections_df , on='Straße_name')\n",
    "all_in_one['houses in the intersection'] = all_in_one[['Hausnummer von links' , 'Hausnummer bis links' ,'Hausnummer von rechts'\t, 'Hausnummer bis rechts' ]].values.tolist()"
   ]
  },
  {
   "attachments": {},
   "cell_type": "markdown",
   "metadata": {},
   "source": [
    "# Algorithms and solution"
   ]
  },
  {
   "attachments": {},
   "cell_type": "markdown",
   "metadata": {},
   "source": [
    "## First solution : we filter the road section that has house number that directly have a hotspot"
   ]
  },
  {
   "cell_type": "code",
   "execution_count": 9,
   "metadata": {},
   "outputs": [],
   "source": [
    "interesections_with_hotspots = []\n",
    "for i , row in all_in_one.iterrows():\n",
    "    try :\n",
    "        # Check if the house number are already one of the houses in the intersection\n",
    "        if row['Haus Nr'].zfill(4) in row['houses in the intersection']:\n",
    "            interesections_with_hotspots.append(row)\n",
    "    except:\n",
    "        pass\n",
    "interesections_with_hotspots_df = pd.DataFrame(interesections_with_hotspots)"
   ]
  },
  {
   "attachments": {},
   "cell_type": "markdown",
   "metadata": {},
   "source": [
    "# Seconed solution : we filter the road section that has house number that in a range of X meter around the intersection and has a hotspot."
   ]
  },
  {
   "attachments": {},
   "cell_type": "markdown",
   "metadata": {},
   "source": [
    "* There are many different types of spatial references for defining geographic data. To simplify accessing and referencing them, they are commonly referred to by a well-known ID (WKID) — an integer value.\n",
    "* Our data has germetrical/spatial refrence which is wkid: 4326. The corrdinates provided is latitude and longitude specified in degrees.\n",
    "* To calculate the distance between two location we use Haversine Distance.\n",
    "* Haversine Distance can be defined as the angular distance between two locations on the Earth’s surface.\n",
    "* Usually the range of the hotspot wifi is 45 meter , so this would be our threshold"
   ]
  },
  {
   "cell_type": "code",
   "execution_count": 59,
   "metadata": {},
   "outputs": [],
   "source": [
    "# Combine the geometry coordinates of the hotspot in one coloum\n",
    "all_in_one['hotspot_geometry'] = all_in_one.apply(lambda x: list([x['Geometry_x'],x['Geometry_y']]) ,axis=1)  "
   ]
  },
  {
   "cell_type": "code",
   "execution_count": 116,
   "metadata": {},
   "outputs": [],
   "source": [
    "# make the geomtry paths list of floats instead of string\n",
    "all_in_one['Gemotry_path_list'] = all_in_one['Geometry_paths'].map(lambda x: [list(map(float , element.split(','))) for element in re.findall(r\"[.^[]*\\[([^]]*)\\]\", x)] )"
   ]
  },
  {
   "cell_type": "code",
   "execution_count": 119,
   "metadata": {},
   "outputs": [],
   "source": [
    "interesections_with_range_of_hotspots = []\n",
    "for i , row in all_in_one.iterrows():\n",
    "    loc1 = row['hotspot_geometry']\n",
    "    for loc2 in row['Gemotry_path_list']:\n",
    "        # check if the one of the intersection paths is in the range of the hotspot\n",
    "        if hs.haversine(loc1 , loc2,unit=Unit.METERS) < 45:\n",
    "            interesections_with_range_of_hotspots.append(row)\n",
    "            #print(\"in the range\") \n",
    "interesections_with_range_of_hotspots_df = pd.DataFrame(interesections_with_range_of_hotspots)"
   ]
  },
  {
   "attachments": {},
   "cell_type": "markdown",
   "metadata": {},
   "source": [
    "# Visualization of the hotspot that has intersections in its range "
   ]
  },
  {
   "attachments": {},
   "cell_type": "markdown",
   "metadata": {},
   "source": []
  }
 ],
 "metadata": {
  "kernelspec": {
   "display_name": "fabs",
   "language": "python",
   "name": "python3"
  },
  "language_info": {
   "codemirror_mode": {
    "name": "ipython",
    "version": 3
   },
   "file_extension": ".py",
   "mimetype": "text/x-python",
   "name": "python",
   "nbconvert_exporter": "python",
   "pygments_lexer": "ipython3",
   "version": "3.10.9"
  },
  "orig_nbformat": 4
 },
 "nbformat": 4,
 "nbformat_minor": 2
}
